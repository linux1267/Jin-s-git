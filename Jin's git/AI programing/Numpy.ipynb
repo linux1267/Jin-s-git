{
 "cells": [
  {
   "cell_type": "markdown",
   "metadata": {},
   "source": [
    "# AI 프로그래밍 과제 2"
   ]
  },
  {
   "cell_type": "code",
   "execution_count": 34,
   "metadata": {},
   "outputs": [],
   "source": [
    "import numpy as np\n",
    "import time"
   ]
  },
  {
   "cell_type": "markdown",
   "metadata": {},
   "source": [
    "# 문제 1 (4 points)"
   ]
  },
  {
   "cell_type": "code",
   "execution_count": 35,
   "metadata": {},
   "outputs": [
    {
     "name": "stdout",
     "output_type": "stream",
     "text": [
      "[ 0  1  2  3  4  5  6  7  8  9 10 11 12 13 14 15 16 17 18 19 20 21 22 23\n",
      " 24 25 26 27 28 29 30 31 32 33 34 35 36 37 38 39 40 41 42 43 44 45 46 47\n",
      " 48 49 50 51 52 53 54 55 56 57 58 59 60 61 62 63 64 65 66 67 68 69 70 71\n",
      " 72 73 74 75 76 77 78 79 80 81 82 83 84 85 86 87 88 89 90 91 92 93 94 95\n",
      " 96 97 98 99]\n"
     ]
    }
   ],
   "source": [
    "array_a = np.arange(0,100)\n",
    "print(array_a)"
   ]
  },
  {
   "cell_type": "markdown",
   "metadata": {},
   "source": [
    "NumPy의 np.sum()함수를 이용하여 배열안에 모든 원소들의 합을 구함."
   ]
  },
  {
   "cell_type": "code",
   "execution_count": 36,
   "metadata": {},
   "outputs": [
    {
     "name": "stdout",
     "output_type": "stream",
     "text": [
      "Sum of all elements in array_a:  4950\n"
     ]
    }
   ],
   "source": [
    "start_array1 = time.time()\n",
    "sum_array = np.sum(array_a)\n",
    "print(\"Sum of all elements in array_a: \", sum_array)\n",
    "end_array1 = time.time()\n",
    "result_array1 = end_array1 - start_array1"
   ]
  },
  {
   "cell_type": "markdown",
   "metadata": {},
   "source": [
    "NumPy의 array_a 배열을 Python의 기본 list_a 리스트로 변환"
   ]
  },
  {
   "cell_type": "code",
   "execution_count": 37,
   "metadata": {},
   "outputs": [
    {
     "name": "stdout",
     "output_type": "stream",
     "text": [
      "[0, 1, 2, 3, 4, 5, 6, 7, 8, 9, 10, 11, 12, 13, 14, 15, 16, 17, 18, 19, 20, 21, 22, 23, 24, 25, 26, 27, 28, 29, 30, 31, 32, 33, 34, 35, 36, 37, 38, 39, 40, 41, 42, 43, 44, 45, 46, 47, 48, 49, 50, 51, 52, 53, 54, 55, 56, 57, 58, 59, 60, 61, 62, 63, 64, 65, 66, 67, 68, 69, 70, 71, 72, 73, 74, 75, 76, 77, 78, 79, 80, 81, 82, 83, 84, 85, 86, 87, 88, 89, 90, 91, 92, 93, 94, 95, 96, 97, 98, 99]\n"
     ]
    }
   ],
   "source": [
    "list_a = array_a.tolist()\n",
    "print(list_a)"
   ]
  },
  {
   "cell_type": "markdown",
   "metadata": {},
   "source": [
    "## 프로그래밍 문제 1-1: Python의 리스트 list_a 를 이용하여 np.sum(array_a)과 같은 계산을 수행하는 total_sum() 함수를 작성하시오."
   ]
  },
  {
   "cell_type": "code",
   "execution_count": 38,
   "metadata": {},
   "outputs": [],
   "source": [
    "start_list1 = time.time()\n",
    "def total_sum(a):\n",
    "    elements = 0\n",
    "    for i in a:\n",
    "        elements += i\n",
    "    return elements"
   ]
  },
  {
   "cell_type": "markdown",
   "metadata": {},
   "source": [
    "위에 구현한 total_sum() 함수를 호출하여 반환된 결과값(sum_list)을 출력함."
   ]
  },
  {
   "cell_type": "code",
   "execution_count": 39,
   "metadata": {},
   "outputs": [
    {
     "name": "stdout",
     "output_type": "stream",
     "text": [
      "Sum of all elements in list_a:  4950\n"
     ]
    }
   ],
   "source": [
    "# 함수 호출\n",
    "sum_list = total_sum(list_a)\n",
    "# 결과 출력\n",
    "print(\"Sum of all elements in list_a: \", sum_list)\n",
    "end_list1 = time.time()\n",
    "result_list1 = end_list1 - start_list1"
   ]
  },
  {
   "cell_type": "markdown",
   "metadata": {},
   "source": [
    "\n",
    "NumPy 배열 array_a의 형태를 reshape()를 이용하여 변환하고 array_b에 할당함."
   ]
  },
  {
   "cell_type": "code",
   "execution_count": 40,
   "metadata": {},
   "outputs": [
    {
     "name": "stdout",
     "output_type": "stream",
     "text": [
      "[[ 0  1  2  3  4  5  6  7  8  9 10 11 12 13 14 15 16 17 18 19]\n",
      " [20 21 22 23 24 25 26 27 28 29 30 31 32 33 34 35 36 37 38 39]\n",
      " [40 41 42 43 44 45 46 47 48 49 50 51 52 53 54 55 56 57 58 59]\n",
      " [60 61 62 63 64 65 66 67 68 69 70 71 72 73 74 75 76 77 78 79]\n",
      " [80 81 82 83 84 85 86 87 88 89 90 91 92 93 94 95 96 97 98 99]]\n"
     ]
    }
   ],
   "source": [
    "array_b = array_a.reshape(5,20)\n",
    "print(array_b)"
   ]
  },
  {
   "cell_type": "markdown",
   "metadata": {},
   "source": [
    "NumPy의 np.sum()함수를 이용하여 각각의 열 별로 합을 구함."
   ]
  },
  {
   "cell_type": "code",
   "execution_count": 41,
   "metadata": {},
   "outputs": [
    {
     "name": "stdout",
     "output_type": "stream",
     "text": [
      "Column sum of array_b:  [200 205 210 215 220 225 230 235 240 245 250 255 260 265 270 275 280 285\n",
      " 290 295]\n"
     ]
    }
   ],
   "source": [
    "start_array2 = time.time()\n",
    "column_sum_array = np.sum(array_b, axis=0)\n",
    "print(\"Column sum of array_b: \", column_sum_array)\n",
    "end_array2 = time.time()\n",
    "result_array2 = end_array2 - start_array2"
   ]
  },
  {
   "cell_type": "markdown",
   "metadata": {},
   "source": [
    "## 프로그래밍 문제 1-2: Python의 리스트 list_b 를 이용하여 위의 np.sum(array_b, axis=0)과 같은 계산을 수행하는 column_sum() 함수를 작성하시오."
   ]
  },
  {
   "cell_type": "markdown",
   "metadata": {},
   "source": [
    "NumPy의 array_b 배열을 Python의 기본 list_b 리스트로 변환"
   ]
  },
  {
   "cell_type": "code",
   "execution_count": 42,
   "metadata": {},
   "outputs": [
    {
     "name": "stdout",
     "output_type": "stream",
     "text": [
      "[[0, 1, 2, 3, 4, 5, 6, 7, 8, 9, 10, 11, 12, 13, 14, 15, 16, 17, 18, 19], [20, 21, 22, 23, 24, 25, 26, 27, 28, 29, 30, 31, 32, 33, 34, 35, 36, 37, 38, 39], [40, 41, 42, 43, 44, 45, 46, 47, 48, 49, 50, 51, 52, 53, 54, 55, 56, 57, 58, 59], [60, 61, 62, 63, 64, 65, 66, 67, 68, 69, 70, 71, 72, 73, 74, 75, 76, 77, 78, 79], [80, 81, 82, 83, 84, 85, 86, 87, 88, 89, 90, 91, 92, 93, 94, 95, 96, 97, 98, 99]]\n"
     ]
    }
   ],
   "source": [
    "list_b = array_b.tolist()\n",
    "print(list_b)"
   ]
  },
  {
   "cell_type": "code",
   "execution_count": 43,
   "metadata": {},
   "outputs": [],
   "source": [
    "start_list2 = time.time()\n",
    "def column_sum(b):\n",
    "    sum_list = []\n",
    "    number = 0\n",
    "    for i in range(len(b[0])):\n",
    "        elements_sum = 0\n",
    "        for j in b:        #enumerate()함수 사용해보기.\n",
    "            elements_sum += j[number]\n",
    "        sum_list.append(elements_sum)\n",
    "        number += 1\n",
    "    return sum_list"
   ]
  },
  {
   "cell_type": "markdown",
   "metadata": {},
   "source": [
    "위에 구현한 column_sum() 함수를 호출하여 반환된 결과값을 출력함."
   ]
  },
  {
   "cell_type": "code",
   "execution_count": 44,
   "metadata": {},
   "outputs": [
    {
     "name": "stdout",
     "output_type": "stream",
     "text": [
      "Column sum of list_b:  [200, 205, 210, 215, 220, 225, 230, 235, 240, 245, 250, 255, 260, 265, 270, 275, 280, 285, 290, 295]\n"
     ]
    }
   ],
   "source": [
    "# 함수 호출\n",
    "column_sum_list = column_sum(list_b)\n",
    "# 결과 출력\n",
    "print(\"Column sum of list_b: \", column_sum_list)\n",
    "end_list2 = time.time()\n",
    "result_list2 = end_list2 - start_list2"
   ]
  },
  {
   "cell_type": "markdown",
   "metadata": {},
   "source": [
    "NumPy의 np.sum()함수를 이용하여 각각의 행 별로 합을 구함."
   ]
  },
  {
   "cell_type": "code",
   "execution_count": 45,
   "metadata": {},
   "outputs": [
    {
     "name": "stdout",
     "output_type": "stream",
     "text": [
      "Row sum of array_b:  [ 190  590  990 1390 1790]\n"
     ]
    }
   ],
   "source": [
    "start_array3 = time.time()\n",
    "row_sum_array = np.sum(array_b, axis=1)\n",
    "print(\"Row sum of array_b: \", row_sum_array)\n",
    "end_array3 = time.time()\n",
    "result_array3 = end_array3 - start_array3"
   ]
  },
  {
   "cell_type": "markdown",
   "metadata": {},
   "source": [
    "## 프로그래밍 문제 1-3: Python의 리스트 list_b 를 이용하여 위의 np.sum(array_b, axis=1)과 같은 계산을 수행하는 row_sum() 함수를 작성하시오."
   ]
  },
  {
   "cell_type": "code",
   "execution_count": 46,
   "metadata": {},
   "outputs": [],
   "source": [
    "start_list3 = time.time()\n",
    "def row_sum(b):\n",
    "    sum_list = []\n",
    "    for i in range(len(b)):\n",
    "        elements_sum = 0\n",
    "        for j in range(len(b[0])):     #enumerate()함수 사용해보기\n",
    "            elements_sum += b[i][j]\n",
    "        sum_list.append(elements_sum)\n",
    "    return sum_list"
   ]
  },
  {
   "cell_type": "markdown",
   "metadata": {},
   "source": [
    "위에 구현한 row_sum() 함수를 호출하여 반환된 결과값을 출력함."
   ]
  },
  {
   "cell_type": "code",
   "execution_count": 47,
   "metadata": {},
   "outputs": [
    {
     "name": "stdout",
     "output_type": "stream",
     "text": [
      "Row sum of list_b:  [190, 590, 990, 1390, 1790]\n"
     ]
    }
   ],
   "source": [
    "# 함수 호출\n",
    "row_sum_list = row_sum(list_b)\n",
    "# 결과 출력\n",
    "print(\"Row sum of list_b: \", row_sum_list)\n",
    "end_list3 = time.time()\n",
    "result_list3 = end_list3 - start_list3"
   ]
  },
  {
   "cell_type": "markdown",
   "metadata": {},
   "source": [
    "# 문제 2 (5 points)\n",
    "## 아래 주어진 NumPy의 array_c와 array_d를 갖고 문제 1의 순서대로 NumPy배열을 리스트로 변환한 후 np.max()와 같은 계산을 수행하는 find_max(), find_column_max(), find_row_max() 세개의 함수를 작성하시오. np.max() 와 구현한 함수로 부터 얻은 결과값을 비교하시오."
   ]
  },
  {
   "cell_type": "code",
   "execution_count": 49,
   "metadata": {},
   "outputs": [
    {
     "name": "stdout",
     "output_type": "stream",
     "text": [
      "[  0   1   2   3   4   5   6   7   8   9  10  11  12  13  14  15  16  17\n",
      "  18  19  20  21  22  23  24  25  26  27  28  29  30  31  32  33  34  35\n",
      "  36  37  38  39  40  41  42  43  44  45  46  47  48  49  50  51  52  53\n",
      "  54  55  56  57  58  59  60  61  62  63  64  65  66  67  68  69  70  71\n",
      "  72  73  74  75  76  77  78  79  80  81  82  83  84  85  86  87  88  89\n",
      "  90  91  92  93  94  95  96  97  98  99 100 101 102 103 104 105 106 107\n",
      " 108 109 110 111 112 113 114 115 116 117 118 119 120 121 122 123 124 125\n",
      " 126 127 128 129 130 131 132 133 134 135 136 137 138 139 140 141 142 143\n",
      " 144 145 146 147 148 149 150 151 152 153 154 155 156 157 158 159 160 161\n",
      " 162 163 164 165 166 167 168 169 170 171 172 173 174 175 176 177 178 179\n",
      " 180 181 182 183 184 185 186 187 188 189 190 191 192 193 194 195 196 197\n",
      " 198 199]\n"
     ]
    }
   ],
   "source": [
    "array_c = np.arange(0,200)\n",
    "print(array_c)"
   ]
  },
  {
   "cell_type": "markdown",
   "metadata": {},
   "source": [
    "## 프로그래밍 문제 2-1"
   ]
  },
  {
   "cell_type": "code",
   "execution_count": 50,
   "metadata": {
    "scrolled": true
   },
   "outputs": [
    {
     "name": "stdout",
     "output_type": "stream",
     "text": [
      "Maximum value in array_c:  199\n"
     ]
    }
   ],
   "source": [
    "start_array4 = time.time()\n",
    "max_array = np.max(array_c)\n",
    "print(\"Maximum value in array_c: \", max_array)\n",
    "end_array4 = time.time()\n",
    "result_array4 = end_array4 - start_array4"
   ]
  },
  {
   "cell_type": "code",
   "execution_count": 51,
   "metadata": {},
   "outputs": [],
   "source": [
    "start_list4 = time.time()\n",
    "def find_max(c):\n",
    "    for i in range(len(c)-1):\n",
    "        if c[i + 1] > c[i]:\n",
    "            max_elements = c[i + 1]\n",
    "        elif c[i + 1] < c[i]:\n",
    "            max_elements = c[i]\n",
    "    return max_elements"
   ]
  },
  {
   "cell_type": "code",
   "execution_count": 52,
   "metadata": {},
   "outputs": [],
   "source": [
    "# NumPy배열에서 리스트로 변환\n",
    "list_c = array_c.tolist()"
   ]
  },
  {
   "cell_type": "code",
   "execution_count": 53,
   "metadata": {},
   "outputs": [
    {
     "name": "stdout",
     "output_type": "stream",
     "text": [
      "Maximum value in list_c:  199\n"
     ]
    }
   ],
   "source": [
    "# 리스트를 입력값으로 하는 find_max() 함수 호출하여 결과값을 출력\n",
    "max_list = find_max(list_c)\n",
    "print(\"Maximum value in list_c: \", max_list)\n",
    "end_list4 = time.time()\n",
    "result_list4 = end_list4 - start_list4"
   ]
  },
  {
   "cell_type": "markdown",
   "metadata": {},
   "source": [
    "## 프로그래밍 문제 2-2"
   ]
  },
  {
   "cell_type": "code",
   "execution_count": 54,
   "metadata": {},
   "outputs": [
    {
     "name": "stdout",
     "output_type": "stream",
     "text": [
      "[[  0   1   2   3   4   5   6   7   8   9]\n",
      " [ 10  11  12  13  14  15  16  17  18  19]\n",
      " [ 20  21  22  23  24  25  26  27  28  29]\n",
      " [ 30  31  32  33  34  35  36  37  38  39]\n",
      " [ 40  41  42  43  44  45  46  47  48  49]\n",
      " [ 50  51  52  53  54  55  56  57  58  59]\n",
      " [ 60  61  62  63  64  65  66  67  68  69]\n",
      " [ 70  71  72  73  74  75  76  77  78  79]\n",
      " [ 80  81  82  83  84  85  86  87  88  89]\n",
      " [ 90  91  92  93  94  95  96  97  98  99]\n",
      " [100 101 102 103 104 105 106 107 108 109]\n",
      " [110 111 112 113 114 115 116 117 118 119]\n",
      " [120 121 122 123 124 125 126 127 128 129]\n",
      " [130 131 132 133 134 135 136 137 138 139]\n",
      " [140 141 142 143 144 145 146 147 148 149]\n",
      " [150 151 152 153 154 155 156 157 158 159]\n",
      " [160 161 162 163 164 165 166 167 168 169]\n",
      " [170 171 172 173 174 175 176 177 178 179]\n",
      " [180 181 182 183 184 185 186 187 188 189]\n",
      " [190 191 192 193 194 195 196 197 198 199]]\n"
     ]
    }
   ],
   "source": [
    "array_d = array_c.reshape(20,10)\n",
    "print(array_d)"
   ]
  },
  {
   "cell_type": "code",
   "execution_count": 55,
   "metadata": {},
   "outputs": [
    {
     "name": "stdout",
     "output_type": "stream",
     "text": [
      "Maximum value of each column in array_d:  [190 191 192 193 194 195 196 197 198 199]\n"
     ]
    }
   ],
   "source": [
    "start_array5 = time.time()\n",
    "column_max_array = np.max(array_d, axis=0)\n",
    "print(\"Maximum value of each column in array_d: \", column_max_array)\n",
    "end_array5 = time.time()\n",
    "result_array5 = end_array5 - start_array5"
   ]
  },
  {
   "cell_type": "code",
   "execution_count": 59,
   "metadata": {},
   "outputs": [],
   "source": [
    "start_list5 = time.time()\n",
    "def find_column_max(d):\n",
    "    max_list = []\n",
    "    for i in range(len(d[0])):\n",
    "        for j in range(len(d)-1):\n",
    "            if d[j + 1][i] > d[j][i]:\n",
    "                max_elements = d[j + 1][i]\n",
    "            elif d[j + 1][i] < d[j][i]:\n",
    "                max_elements = d[j][i]\n",
    "        max_list.append(max_elements)\n",
    "    return max_list"
   ]
  },
  {
   "cell_type": "code",
   "execution_count": 60,
   "metadata": {},
   "outputs": [],
   "source": [
    "# NumPy배열에서 리스트로 변환\n",
    "list_d = array_d.tolist()"
   ]
  },
  {
   "cell_type": "code",
   "execution_count": 61,
   "metadata": {},
   "outputs": [
    {
     "name": "stdout",
     "output_type": "stream",
     "text": [
      "Maximum value of each column in list_d:  [190, 191, 192, 193, 194, 195, 196, 197, 198, 199]\n"
     ]
    }
   ],
   "source": [
    "# 리스트를 입력값으로 하는 find_column_max() 함수 호출하여 결과값을 출력\n",
    "column_max_list = find_column_max(list_d)\n",
    "print(\"Maximum value of each column in list_d: \", column_max_list)\n",
    "end_list5 = time.time()\n",
    "result_list5 = end_list5 - start_list5"
   ]
  },
  {
   "cell_type": "markdown",
   "metadata": {},
   "source": [
    "## 프로그래밍 문제 2-3"
   ]
  },
  {
   "cell_type": "code",
   "execution_count": 62,
   "metadata": {},
   "outputs": [
    {
     "name": "stdout",
     "output_type": "stream",
     "text": [
      "Maximum value of each row in array_d:  [  9  19  29  39  49  59  69  79  89  99 109 119 129 139 149 159 169 179\n",
      " 189 199]\n"
     ]
    }
   ],
   "source": [
    "start_array6 = time.time()\n",
    "row_max_array = np.max(array_d, axis=1)\n",
    "print(\"Maximum value of each row in array_d: \", row_max_array)\n",
    "end_array6 = time.time()\n",
    "result_array6 = end_array6 - start_array6"
   ]
  },
  {
   "cell_type": "code",
   "execution_count": 63,
   "metadata": {},
   "outputs": [],
   "source": [
    "start_list6 = time.time()\n",
    "def find_row_max(d):\n",
    "    max_list = []\n",
    "    for i in range(len(d)):\n",
    "        for j in range(len(d[0])-1):\n",
    "            if d[i][j + 1] > d[i][j]:\n",
    "                max_elements = d[i][j + 1]\n",
    "            elif d[i][j + 1] < d[i][j]:\n",
    "                max_elements = d[i][j]\n",
    "        max_list.append(max_elements)\n",
    "    return max_list"
   ]
  },
  {
   "cell_type": "code",
   "execution_count": 64,
   "metadata": {},
   "outputs": [
    {
     "name": "stdout",
     "output_type": "stream",
     "text": [
      "Maximum value of each row in list_d:  [9, 19, 29, 39, 49, 59, 69, 79, 89, 99, 109, 119, 129, 139, 149, 159, 169, 179, 189, 199]\n"
     ]
    }
   ],
   "source": [
    "# 리스트를 입력값으로 하는 find_row_max() 함수 호출하여 결과값을 출력\n",
    "row_max_list = find_row_max(list_d)\n",
    "print(\"Maximum value of each row in list_d: \", row_max_list)\n",
    "end_list6 = time.time()\n",
    "result_list6 = end_list6 - start_list6"
   ]
  },
  {
   "cell_type": "markdown",
   "metadata": {},
   "source": [
    "# 문제 3 (1 point)\n",
    "## NumPy에서 제공되는 함수(예: np.sum(), np.max() )와 list를 이용하여 직접 구현한 함수 (total_sum(), column_sum(), row_sum(), find_max(), find_column_max(), find_row_max() )의 실행 속도를 측정하여 비교하시오. (보충 설명: 위 문제 1과 문제 2에서 각각의 함수가 호출되어 실행된 셀안에서 실행시간을 측정하시오.)\n",
    "(참고: %time 명령을 이용하거나(option 1) 아래 코드를 참고해서(option 2) 실행시간을 측정하시오.)"
   ]
  },
  {
   "cell_type": "code",
   "execution_count": 65,
   "metadata": {},
   "outputs": [
    {
     "name": "stdout",
     "output_type": "stream",
     "text": [
      "CPU times: user 2 µs, sys: 1e+03 ns, total: 3 µs\n",
      "Wall time: 4.77 µs\n",
      "\n",
      "hello\n",
      "7.724761962890625e-05\n"
     ]
    }
   ],
   "source": [
    "%time # option 1\n",
    "\n",
    "print(\"\")\n",
    "\n",
    "import time # option 2\n",
    "start = time.time()\n",
    "# 코드 실행\n",
    "print(\"hello\")\n",
    "end = time.time()\n",
    "print(end - start)"
   ]
  },
  {
   "cell_type": "markdown",
   "metadata": {},
   "source": [
    "### 함수들의 실행시간를 보고(report)하고 얻은 결과를 바탕으로 결론을 요약해서 작성하시오.\n",
    "(Markdown 과 Code를 활용하여 자유형식으로 아래에 결론을 작성 (셀 추가 가능) )\n",
    "\n",
    "실행 속도: 아래 코드 부분처럼 각각의 함수 실행시간을 비교해보면 Numpy array의 함수 실행시간이 더 짧다.\n",
    "\n",
    "결론:NumPy에서 제공되는 함수(np.sum(), np.max() )가 직접 구현한 함수 (total_sum(), column_sum(), row_sum(), find_max(), find_column_max(), find_row_max() )보다 실행시간이 짧은 것을 확인할 수 있었다."
   ]
  },
  {
   "cell_type": "code",
   "execution_count": 66,
   "metadata": {},
   "outputs": [
    {
     "name": "stdout",
     "output_type": "stream",
     "text": [
      "Numpy의 array가 더 실행시간이 짧다.\n",
      "Numpy의 array가 더 실행시간이 짧다.\n",
      "Numpy의 array가 더 실행시간이 짧다.\n",
      "Numpy의 array가 더 실행시간이 짧다.\n",
      "Numpy의 array가 더 실행시간이 짧다.\n",
      "Numpy의 array가 더 실행시간이 짧다.\n"
     ]
    }
   ],
   "source": [
    "if result_array1 < result_list1:\n",
    "    print('Numpy의 array가 더 실행시간이 짧다.')\n",
    "else:\n",
    "    print('list가 실행시간이 짧다.')\n",
    "if result_array2 < result_list2:\n",
    "    print('Numpy의 array가 더 실행시간이 짧다.')\n",
    "else:\n",
    "    print('list가 실행시간이 짧다.')\n",
    "if result_array3 < result_list3:\n",
    "    print('Numpy의 array가 더 실행시간이 짧다.')\n",
    "else:\n",
    "    print('list가 실행시간이 짧다.')\n",
    "if result_array4 < result_list4:\n",
    "    print('Numpy의 array가 더 실행시간이 짧다.')\n",
    "else:\n",
    "    print('list가 실행시간이 짧다.')\n",
    "if result_array5 < result_list5:\n",
    "    print('Numpy의 array가 더 실행시간이 짧다.')\n",
    "else:\n",
    "    print('list가 실행시간이 짧다.')\n",
    "if result_array6 < result_list6:\n",
    "    print('Numpy의 array가 더 실행시간이 짧다.')\n",
    "else:\n",
    "    print('list가 실행시간이 짧다.')"
   ]
  },
  {
   "cell_type": "code",
   "execution_count": null,
   "metadata": {},
   "outputs": [],
   "source": []
  }
 ],
 "metadata": {
  "kernelspec": {
   "display_name": "Python 3 (ipykernel)",
   "language": "python",
   "name": "python3"
  },
  "language_info": {
   "codemirror_mode": {
    "name": "ipython",
    "version": 3
   },
   "file_extension": ".py",
   "mimetype": "text/x-python",
   "name": "python",
   "nbconvert_exporter": "python",
   "pygments_lexer": "ipython3",
   "version": "3.9.7"
  }
 },
 "nbformat": 4,
 "nbformat_minor": 4
}
