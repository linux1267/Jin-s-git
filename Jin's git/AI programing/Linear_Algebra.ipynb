{
 "cells": [
  {
   "cell_type": "markdown",
   "metadata": {},
   "source": [
    "# AI 프로그래밍 과제 4 - Linear Algebra"
   ]
  },
  {
   "cell_type": "code",
   "execution_count": 1,
   "metadata": {},
   "outputs": [],
   "source": [
    "import numpy as np"
   ]
  },
  {
   "cell_type": "markdown",
   "metadata": {},
   "source": [
    "# 1. NumPy의 np.dot()함수를 이용하여 주어진 두 개의 vector로 dot product를 수행함."
   ]
  },
  {
   "cell_type": "code",
   "execution_count": 2,
   "metadata": {
    "scrolled": true
   },
   "outputs": [
    {
     "data": {
      "text/plain": [
       "(array([0, 1, 2, 3]), array([0, 1, 2, 3]))"
      ]
     },
     "execution_count": 2,
     "metadata": {},
     "output_type": "execute_result"
    }
   ],
   "source": [
    "vector_x = np.arange(4)\n",
    "vector_y = np.arange(4)\n",
    "vector_x, vector_y"
   ]
  },
  {
   "cell_type": "code",
   "execution_count": 3,
   "metadata": {
    "scrolled": true
   },
   "outputs": [
    {
     "name": "stdout",
     "output_type": "stream",
     "text": [
      "14\n"
     ]
    }
   ],
   "source": [
    "vec_vec_mul_result = np.dot(vector_x, vector_y)\n",
    "print(vec_vec_mul_result)"
   ]
  },
  {
   "cell_type": "markdown",
   "metadata": {},
   "source": [
    "NumPy의 vector_x, vector_y 벡터를 1차원 리스트로 변환"
   ]
  },
  {
   "cell_type": "code",
   "execution_count": 4,
   "metadata": {},
   "outputs": [
    {
     "data": {
      "text/plain": [
       "([0, 1, 2, 3], [0, 1, 2, 3])"
      ]
     },
     "execution_count": 4,
     "metadata": {},
     "output_type": "execute_result"
    }
   ],
   "source": [
    "list_1D_x = vector_x.tolist()\n",
    "list_1D_y = vector_y.tolist()\n",
    "list_1D_x, list_1D_y"
   ]
  },
  {
   "cell_type": "markdown",
   "metadata": {},
   "source": [
    "# 프로그래밍 문제 1 (2 points): 두 개의 리스트 list_1D_x와 list_1D_y를 이용하여 np.dot(vector_x, vector_y) 함수와 같은 계산을 수행하는 vec_vec_mul_func() 함수를 작성하시오.\n",
    "\n",
    "(참고: NumPy에서 제공하는 함수를 (ex, np.sum(), np.dot() 등) 이용하지 말고 반복문을 이용해서 코드를 작성할 것.)"
   ]
  },
  {
   "cell_type": "code",
   "execution_count": 5,
   "metadata": {},
   "outputs": [],
   "source": [
    "def vec_vec_mul_func(vec_x, vec_y):\n",
    "    result_vec = 0\n",
    "    for i in range(len(vec_x)):\n",
    "        result_vec += vec_x[i] * vec_y[i]\n",
    "    return result_vec"
   ]
  },
  {
   "cell_type": "code",
   "execution_count": 6,
   "metadata": {},
   "outputs": [
    {
     "name": "stdout",
     "output_type": "stream",
     "text": [
      "14\n"
     ]
    }
   ],
   "source": [
    "# 함수 호출\n",
    "list_vec_vec_mul_result = vec_vec_mul_func(list_1D_x, list_1D_y)\n",
    "\n",
    "# 결과 출력\n",
    "print(list_vec_vec_mul_result)"
   ]
  },
  {
   "cell_type": "markdown",
   "metadata": {},
   "source": [
    "# 2. NumPy의 np.dot()함수를 이용하여 주어진 하나의 matrix와 하나의 vector로 matrix-vector multiplication을 수행함."
   ]
  },
  {
   "cell_type": "code",
   "execution_count": 7,
   "metadata": {},
   "outputs": [
    {
     "data": {
      "text/plain": [
       "(array([[ 0,  1,  2,  3],\n",
       "        [ 4,  5,  6,  7],\n",
       "        [ 8,  9, 10, 11],\n",
       "        [12, 13, 14, 15],\n",
       "        [16, 17, 18, 19],\n",
       "        [20, 21, 22, 23],\n",
       "        [24, 25, 26, 27],\n",
       "        [28, 29, 30, 31]]),\n",
       " array([0, 1, 2, 3]))"
      ]
     },
     "execution_count": 7,
     "metadata": {},
     "output_type": "execute_result"
    }
   ],
   "source": [
    "matrix_A = np.arange(32).reshape(8,4)\n",
    "vector_x = np.arange(4)\n",
    "matrix_A, vector_x"
   ]
  },
  {
   "cell_type": "code",
   "execution_count": 8,
   "metadata": {
    "scrolled": false
   },
   "outputs": [
    {
     "name": "stdout",
     "output_type": "stream",
     "text": [
      "[ 14  38  62  86 110 134 158 182]\n"
     ]
    }
   ],
   "source": [
    "mat_vec_mul_result = np.dot(matrix_A, vector_x)\n",
    "print(mat_vec_mul_result)"
   ]
  },
  {
   "cell_type": "markdown",
   "metadata": {},
   "source": [
    "NumPy의 matrix_A 행렬을 2차원 리스트로, 그리고 vector_x 벡터를 1차원 리스트로 변환"
   ]
  },
  {
   "cell_type": "code",
   "execution_count": 9,
   "metadata": {
    "scrolled": true
   },
   "outputs": [
    {
     "data": {
      "text/plain": [
       "([[0, 1, 2, 3],\n",
       "  [4, 5, 6, 7],\n",
       "  [8, 9, 10, 11],\n",
       "  [12, 13, 14, 15],\n",
       "  [16, 17, 18, 19],\n",
       "  [20, 21, 22, 23],\n",
       "  [24, 25, 26, 27],\n",
       "  [28, 29, 30, 31]],\n",
       " [0, 1, 2, 3])"
      ]
     },
     "execution_count": 9,
     "metadata": {},
     "output_type": "execute_result"
    }
   ],
   "source": [
    "list_2D_A = matrix_A.tolist()\n",
    "list_1D_x = vector_x.tolist()\n",
    "list_2D_A, list_1D_x"
   ]
  },
  {
   "cell_type": "markdown",
   "metadata": {},
   "source": [
    "# 프로그래밍 문제 2 (3 points): 두 개의 리스트 list_2D_A와 list_1D_x를 이용하여 np.dot(matrix_A, vector_x) 함수와 같은 계산을 수행하는 mat_vec_mul_func() 함수를 작성하시오.\n",
    "\n",
    "(참고: NumPy에서 제공하는 함수를 (ex, np.sum(), np.dot() 등) 이용하지 말고 반복문을 이용해서 코드를 작성할 것.)"
   ]
  },
  {
   "cell_type": "code",
   "execution_count": 10,
   "metadata": {},
   "outputs": [],
   "source": [
    "def mat_vec_mul_func(mat_A, vec_x):\n",
    "    elements_sum = 0\n",
    "    result_vec = []\n",
    "    for i in range(len(mat_A)):\n",
    "        for j in range(len(mat_A[i])):\n",
    "            elements_sum += mat_A[i][j] * vec_x[j]\n",
    "        result_vec.append(elements_sum)\n",
    "        elements_sum = 0\n",
    "    return result_vec"
   ]
  },
  {
   "cell_type": "code",
   "execution_count": 11,
   "metadata": {},
   "outputs": [
    {
     "name": "stdout",
     "output_type": "stream",
     "text": [
      "[14, 38, 62, 86, 110, 134, 158, 182]\n"
     ]
    }
   ],
   "source": [
    "# 함수 호출\n",
    "list_mat_vec_mul_result = mat_vec_mul_func(list_2D_A, list_1D_x)\n",
    "\n",
    "# 결과 출력\n",
    "print(list_mat_vec_mul_result)"
   ]
  },
  {
   "cell_type": "markdown",
   "metadata": {},
   "source": [
    "# 3. NumPy의 np.dot()함수를 이용하여 주어진 두 개의 matrix로 matrix-matrix multiplication을 수행함."
   ]
  },
  {
   "cell_type": "code",
   "execution_count": 12,
   "metadata": {
    "scrolled": false
   },
   "outputs": [
    {
     "data": {
      "text/plain": [
       "(array([[ 0,  1,  2,  3],\n",
       "        [ 4,  5,  6,  7],\n",
       "        [ 8,  9, 10, 11],\n",
       "        [12, 13, 14, 15],\n",
       "        [16, 17, 18, 19],\n",
       "        [20, 21, 22, 23],\n",
       "        [24, 25, 26, 27],\n",
       "        [28, 29, 30, 31]]),\n",
       " array([[ 0,  1,  2,  3,  4,  5,  6,  7,  8,  9, 10, 11, 12, 13, 14, 15],\n",
       "        [16, 17, 18, 19, 20, 21, 22, 23, 24, 25, 26, 27, 28, 29, 30, 31],\n",
       "        [32, 33, 34, 35, 36, 37, 38, 39, 40, 41, 42, 43, 44, 45, 46, 47],\n",
       "        [48, 49, 50, 51, 52, 53, 54, 55, 56, 57, 58, 59, 60, 61, 62, 63]]))"
      ]
     },
     "execution_count": 12,
     "metadata": {},
     "output_type": "execute_result"
    }
   ],
   "source": [
    "matrix_A = np.arange(32).reshape(8,4)\n",
    "matrix_B = np.arange(64).reshape(4,16)\n",
    "matrix_A, matrix_B"
   ]
  },
  {
   "cell_type": "code",
   "execution_count": 13,
   "metadata": {
    "scrolled": true
   },
   "outputs": [
    {
     "name": "stdout",
     "output_type": "stream",
     "text": [
      "[[ 224  230  236  242  248  254  260  266  272  278  284  290  296  302\n",
      "   308  314]\n",
      " [ 608  630  652  674  696  718  740  762  784  806  828  850  872  894\n",
      "   916  938]\n",
      " [ 992 1030 1068 1106 1144 1182 1220 1258 1296 1334 1372 1410 1448 1486\n",
      "  1524 1562]\n",
      " [1376 1430 1484 1538 1592 1646 1700 1754 1808 1862 1916 1970 2024 2078\n",
      "  2132 2186]\n",
      " [1760 1830 1900 1970 2040 2110 2180 2250 2320 2390 2460 2530 2600 2670\n",
      "  2740 2810]\n",
      " [2144 2230 2316 2402 2488 2574 2660 2746 2832 2918 3004 3090 3176 3262\n",
      "  3348 3434]\n",
      " [2528 2630 2732 2834 2936 3038 3140 3242 3344 3446 3548 3650 3752 3854\n",
      "  3956 4058]\n",
      " [2912 3030 3148 3266 3384 3502 3620 3738 3856 3974 4092 4210 4328 4446\n",
      "  4564 4682]]\n"
     ]
    }
   ],
   "source": [
    "mat_mat_mul_result = np.dot(matrix_A, matrix_B)\n",
    "print(mat_mat_mul_result)"
   ]
  },
  {
   "cell_type": "markdown",
   "metadata": {},
   "source": [
    "NumPy의 matrix_A 와 matrix_B 행렬을 2차원 리스트로 변환"
   ]
  },
  {
   "cell_type": "code",
   "execution_count": 14,
   "metadata": {
    "scrolled": false
   },
   "outputs": [
    {
     "data": {
      "text/plain": [
       "([[0, 1, 2, 3],\n",
       "  [4, 5, 6, 7],\n",
       "  [8, 9, 10, 11],\n",
       "  [12, 13, 14, 15],\n",
       "  [16, 17, 18, 19],\n",
       "  [20, 21, 22, 23],\n",
       "  [24, 25, 26, 27],\n",
       "  [28, 29, 30, 31]],\n",
       " [[0, 1, 2, 3, 4, 5, 6, 7, 8, 9, 10, 11, 12, 13, 14, 15],\n",
       "  [16, 17, 18, 19, 20, 21, 22, 23, 24, 25, 26, 27, 28, 29, 30, 31],\n",
       "  [32, 33, 34, 35, 36, 37, 38, 39, 40, 41, 42, 43, 44, 45, 46, 47],\n",
       "  [48, 49, 50, 51, 52, 53, 54, 55, 56, 57, 58, 59, 60, 61, 62, 63]])"
      ]
     },
     "execution_count": 14,
     "metadata": {},
     "output_type": "execute_result"
    }
   ],
   "source": [
    "list_2D_A = matrix_A.tolist()\n",
    "list_2D_B = matrix_B.tolist()\n",
    "list_2D_A, list_2D_B"
   ]
  },
  {
   "cell_type": "markdown",
   "metadata": {},
   "source": [
    "# 프로그래밍 문제 3 (4 points): 두 개의 리스트 list_2D_A와 list_2D_B를 이용하여 np.dot(matrix_A, matrix_B) 함수와 같은 계산을 수행하는 mat_mat_mul_func() 함수를 작성하시오.\n",
    "\n",
    "(참고: NumPy에서 제공하는 함수를 (ex, np.sum(), np.dot() 등) 이용하지 말고 반복문을 이용해서 코드를 작성할 것.)"
   ]
  },
  {
   "cell_type": "code",
   "execution_count": 15,
   "metadata": {},
   "outputs": [],
   "source": [
    "# matR = [ len(mat_B)*[0] for i in range(len(amt_A))] 를 이용하여 해보자.\n",
    "# h[i][j] += w[i][k] * x[k][j] 이런  형식을 사용해보자.\n",
    "\n",
    "def mat_mat_mul_func(mat_A, mat_B):\n",
    "    result_mat = []\n",
    "    for i in range(len(mat_A)):\n",
    "        mul_mat = []\n",
    "        for j in range(len(mat_B[0])):\n",
    "            elements_sum = 0\n",
    "            for k in range(len(mat_B)):\n",
    "                elements_sum += mat_A[i][k] * mat_B[k][j]\n",
    "            mul_mat.append(elements_sum)\n",
    "        result_mat.append(mul_mat)\n",
    "    return result_mat"
   ]
  },
  {
   "cell_type": "markdown",
   "metadata": {},
   "source": [
    "위에 구현한 row_sum() 함수를 호출하여 반환된 결과값을 출력함."
   ]
  },
  {
   "cell_type": "code",
   "execution_count": 16,
   "metadata": {},
   "outputs": [
    {
     "name": "stdout",
     "output_type": "stream",
     "text": [
      "[[224, 230, 236, 242, 248, 254, 260, 266, 272, 278, 284, 290, 296, 302, 308, 314], [608, 630, 652, 674, 696, 718, 740, 762, 784, 806, 828, 850, 872, 894, 916, 938], [992, 1030, 1068, 1106, 1144, 1182, 1220, 1258, 1296, 1334, 1372, 1410, 1448, 1486, 1524, 1562], [1376, 1430, 1484, 1538, 1592, 1646, 1700, 1754, 1808, 1862, 1916, 1970, 2024, 2078, 2132, 2186], [1760, 1830, 1900, 1970, 2040, 2110, 2180, 2250, 2320, 2390, 2460, 2530, 2600, 2670, 2740, 2810], [2144, 2230, 2316, 2402, 2488, 2574, 2660, 2746, 2832, 2918, 3004, 3090, 3176, 3262, 3348, 3434], [2528, 2630, 2732, 2834, 2936, 3038, 3140, 3242, 3344, 3446, 3548, 3650, 3752, 3854, 3956, 4058], [2912, 3030, 3148, 3266, 3384, 3502, 3620, 3738, 3856, 3974, 4092, 4210, 4328, 4446, 4564, 4682]]\n"
     ]
    }
   ],
   "source": [
    "# 함수 호출\n",
    "list_mat_mat_mul_result = mat_mat_mul_func(list_2D_A, list_2D_B)\n",
    "\n",
    "# 결과 출력\n",
    "print(list_mat_mat_mul_result)"
   ]
  },
  {
   "cell_type": "markdown",
   "metadata": {},
   "source": [
    "# 문제 4 (1 point)\n",
    "## NumPy에서 제공되는 np.dot() 함수와 NumPy배열에서 변환된 list를 이용하여 직접 구현한 함수 vec_vec_mul_func(), mat_vec_mul_func(), mat_mat_mul_func() 의 실행 속도를 측정하여 비교하시오.\n",
    "## 실행시간을 비교한 결과를 바탕으로 결론을 짧게 요약해서 작성하시오.\n",
    "### 위 문제들에서 주어진 Vector 와 Matrix 의 크기보다 더 큰 사이즈의 Vector 와 Matrix를 이용해서 실험해보는 것을 권장함.\n",
    "### (예, 사이즈가 10000x10000 인 Matrix, 사이즈가 10000 인 Vector)\n",
    "#### (Markdown 과 Code를 활용하여 자유형식으로 아래에 결론을 작성 (셀 추가 가능) )"
   ]
  },
  {
   "cell_type": "code",
   "execution_count": 17,
   "metadata": {},
   "outputs": [
    {
     "name": "stdout",
     "output_type": "stream",
     "text": [
      "hello\n",
      "0.0011649131774902344\n"
     ]
    }
   ],
   "source": [
    "# 실행 속도를 측정하는 코드 예\n",
    "import time\n",
    "\n",
    "start = time.time()\n",
    "\n",
    "# 실행 속도를 측정할 코드\n",
    "print(\"hello\")\n",
    "\n",
    "end = time.time()\n",
    "\n",
    "print(end - start)"
   ]
  },
  {
   "cell_type": "code",
   "execution_count": 18,
   "metadata": {},
   "outputs": [
    {
     "name": "stdout",
     "output_type": "stream",
     "text": [
      "문제 1번 비교\n",
      "0.0001277923583984375\n",
      "0.0014371871948242188\n",
      "문제 2번 비교\n",
      "0.0715482234954834\n",
      "16.017329931259155\n",
      "문제 3번 비교\n",
      "0.005124092102050781\n",
      "0.16865301132202148\n"
     ]
    }
   ],
   "source": [
    "import time\n",
    "\n",
    "#1번 문제\n",
    "print(\"문제 1번 비교\")\n",
    "vector_x = np.arange(10000)\n",
    "vector_y = np.arange(10000)\n",
    "\n",
    "start_1_array = time.time()\n",
    "vec_vec_mul_result = np.dot(vector_x, vector_y)\n",
    "end_1_array = time.time()\n",
    "print(end_1_array - start_1_array)\n",
    "\n",
    "list_1D_x = vector_x.tolist()\n",
    "list_1D_y = vector_y.tolist()\n",
    "\n",
    "start_1_list = time.time()\n",
    "list_vec_vec_mul_result = vec_vec_mul_func(list_1D_x, list_1D_y)\n",
    "end_1_list = time.time()\n",
    "print(end_1_list - start_1_list)\n",
    "\n",
    "#2번 문제\n",
    "print(\"문제 2번 비교\")\n",
    "matrix_A = np.arange(100000000).reshape(10000,10000)\n",
    "vector_x = np.arange(10000)\n",
    "\n",
    "start_2_array = time.time()\n",
    "mat_vec_mul_result = np.dot(matrix_A, vector_x)\n",
    "end_2_array = time.time()\n",
    "print(end_2_array - start_2_array)\n",
    "\n",
    "list_2D_A = matrix_A.tolist()\n",
    "list_1D_x = vector_x.tolist()\n",
    "\n",
    "start_2_list = time.time()\n",
    "list_mat_vec_mul_result = mat_vec_mul_func(list_2D_A, list_1D_x)\n",
    "end_2_list = time.time()\n",
    "print(end_2_list - start_2_list)\n",
    "\n",
    "#3번 문제\n",
    "print(\"문제 3번 비교\")\n",
    "matrix_A = np.arange(10000).reshape(100,100)\n",
    "matrix_B = np.arange(10000).reshape(100,100)\n",
    "\n",
    "start_3_array = time.time()\n",
    "mat_mat_mul_result = np.dot(matrix_A, matrix_B)\n",
    "end_3_array = time.time()\n",
    "print(end_3_array - start_3_array)\n",
    "\n",
    "list_2D_A = matrix_A.tolist()\n",
    "list_2D_B = matrix_B.tolist()\n",
    "\n",
    "start_3_list = time.time()\n",
    "list_mat_mat_mul_result = mat_mat_mul_func(list_2D_A, list_2D_B)\n",
    "end_3_list = time.time()\n",
    "print(end_3_list - start_3_list)"
   ]
  },
  {
   "cell_type": "markdown",
   "metadata": {},
   "source": [
    "## 실행속도 비교 결과\n",
    "NumPy에서 제공되는 np.dot() 함수와 NumPy배열에서 변환된 list를 이용하여 직접 구현한 함수를 각 문제 별로 vector와 matrix의 크기를 크게 하여 비교하였때 확연하게 Numpy에서 제공되는 np.dot()함수의 실행속도가 확연하게 빠른 것을 확인할 수 있다. \n",
    "따라서 Numpy에서 제공되는 np.dot()함수를 사용하는 것이 더 효율적이다."
   ]
  }
 ],
 "metadata": {
  "kernelspec": {
   "display_name": "Python 3 (ipykernel)",
   "language": "python",
   "name": "python3"
  },
  "language_info": {
   "codemirror_mode": {
    "name": "ipython",
    "version": 3
   },
   "file_extension": ".py",
   "mimetype": "text/x-python",
   "name": "python",
   "nbconvert_exporter": "python",
   "pygments_lexer": "ipython3",
   "version": "3.9.7"
  }
 },
 "nbformat": 4,
 "nbformat_minor": 4
}
