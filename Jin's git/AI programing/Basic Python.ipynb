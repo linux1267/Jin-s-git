{
 "cells": [
  {
   "cell_type": "markdown",
   "id": "31af8558",
   "metadata": {},
   "source": [
    "# AI 프로그래밍 과제 1"
   ]
  },
  {
   "cell_type": "markdown",
   "id": "4d86b3c6",
   "metadata": {},
   "source": [
    "## Problem 1: 연속적인 구구단 계산기 프로그램을 만들어 보자."
   ]
  },
  {
   "cell_type": "markdown",
   "id": "457bbe8b",
   "metadata": {},
   "source": [
    "## 이 프로그램의 규칙은 다음과 같다."
   ]
  },
  {
   "cell_type": "markdown",
   "id": "9571e3ff",
   "metadata": {},
   "source": [
    "- 프로그램이 시작되면 '구구단 몇 단을 계산할까요(1~9)?'가 출력된다.\n",
    "- 사용자는 계산하고 싶은 구구단 숫자를 입력한다.\n",
    "- 프로그램은 '구구단 n단을 계산합니다.' 라는 메시지와 함께 구구단의 결과를 출력한다. (n은 사용자가 입력한 n단)\n",
    "- 프로그램이 계속 실행되다가 종료 조건에 해당하는 숫자(0)를 사용자가 입력하면 프로그램이 종료된다."
   ]
  },
  {
   "cell_type": "code",
   "execution_count": 1,
   "id": "c2606d83",
   "metadata": {},
   "outputs": [
    {
     "name": "stdout",
     "output_type": "stream",
     "text": [
      "구구단 몇 단을 계산할까요?(1~9)?\n"
     ]
    }
   ],
   "source": [
    "print(\"구구단 몇 단을 계산할까요?(1~9)?\")"
   ]
  },
  {
   "cell_type": "markdown",
   "id": "79d60da0",
   "metadata": {},
   "source": [
    "## Problem 1의 프로그램을 완성하기 위해 아래에 코드를 채우시오."
   ]
  },
  {
   "cell_type": "code",
   "execution_count": 4,
   "id": "3147ab3a",
   "metadata": {},
   "outputs": [
    {
     "name": "stdout",
     "output_type": "stream",
     "text": [
      "7\n",
      "구구단 7단을 계산합니다.\n",
      "7 X 1 = 7\n",
      "7 X 2 = 14\n",
      "7 X 3 = 21\n",
      "7 X 4 = 28\n",
      "7 X 5 = 35\n",
      "7 X 6 = 42\n",
      "7 X 7 = 49\n",
      "7 X 8 = 56\n",
      "7 X 9 = 63\n",
      "구구단 몇 단을 계산할까요(1~9)?\n",
      "2\n",
      "구구단 2단을 계산합니다.\n",
      "2 X 1 = 2\n",
      "2 X 2 = 4\n",
      "2 X 3 = 6\n",
      "2 X 4 = 8\n",
      "2 X 5 = 10\n",
      "2 X 6 = 12\n",
      "2 X 7 = 14\n",
      "2 X 8 = 16\n",
      "2 X 9 = 18\n",
      "구구단 몇 단을 계산할까요(1~9)?\n",
      "0\n",
      "구구단 게임을 종료합니다.\n"
     ]
    }
   ],
   "source": [
    "while(1):\n",
    "    multiplication = int(input())\n",
    "    if(multiplication>0):\n",
    "        print(\"구구단 \",multiplication,\"단을 계산합니다.\",sep='')\n",
    "        for i in range(1,10):\n",
    "            print(multiplication,\"X\",i,\"=\",multiplication*i)\n",
    "    else:\n",
    "        print(\"구구단 게임을 종료합니다.\")\n",
    "        break\n",
    "    print(\"구구단 몇 단을 계산할까요(1~9)?\")\n",
    "\n"
   ]
  },
  {
   "cell_type": "markdown",
   "id": "d7778e50",
   "metadata": {},
   "source": [
    "## Problem 2: 리스트안에 홀수가 총 몇 개 포함되어 있는지 찾아주는 프로그램을 만들어 보자."
   ]
  },
  {
   "cell_type": "markdown",
   "id": "2f963bd7",
   "metadata": {},
   "source": [
    "## 이 프로그램의 규칙은 다음과 같다.\n",
    "  - 프로그램은 마지막에 '리스트안의 홀수 갯수: n'라는 메시지와 함께 주어진 numbers라는 리스트안에 포함된 홀수의 갯수를 결과로 출력한다. (n은 실제 갯수)"
   ]
  },
  {
   "cell_type": "code",
   "execution_count": 4,
   "id": "ea990995",
   "metadata": {},
   "outputs": [],
   "source": [
    "numbers=[9,13,8,45,22,97,75,56,34,25,2,66,81,43]"
   ]
  },
  {
   "cell_type": "code",
   "execution_count": 5,
   "id": "10d5a6d8",
   "metadata": {},
   "outputs": [
    {
     "name": "stdout",
     "output_type": "stream",
     "text": [
      "리스트안의 홀수 갯수: 8\n"
     ]
    }
   ],
   "source": [
    "odd=0\n",
    "for i in range(0,len(numbers)):\n",
    "    if(numbers[i]%2 != 0):\n",
    "        odd+=1\n",
    "print(\"리스트안의 홀수 갯수: \",odd,sep='')"
   ]
  },
  {
   "cell_type": "code",
   "execution_count": null,
   "id": "7d78aae0",
   "metadata": {},
   "outputs": [],
   "source": []
  }
 ],
 "metadata": {
  "kernelspec": {
   "display_name": "Python 3 (ipykernel)",
   "language": "python",
   "name": "python3"
  },
  "language_info": {
   "codemirror_mode": {
    "name": "ipython",
    "version": 3
   },
   "file_extension": ".py",
   "mimetype": "text/x-python",
   "name": "python",
   "nbconvert_exporter": "python",
   "pygments_lexer": "ipython3",
   "version": "3.9.7"
  }
 },
 "nbformat": 4,
 "nbformat_minor": 5
}
